{
 "cells": [
  {
   "cell_type": "markdown",
   "id": "fd105992-0350-4c4e-9779-63211c7b3347",
   "metadata": {},
   "source": [
    "#### 1. Explain Class and Object with respect to Object-Oriented Programming. Give a suitable example."
   ]
  },
  {
   "cell_type": "markdown",
   "id": "483e268f-e7c8-42d9-b720-c7175f835aa0",
   "metadata": {},
   "source": [
    "class->A class is a user-defined data type. It consists of data members and member functions, which can be accessed and used by creating an instance of that class. It represents the set of properties or methods that are common to all objects of one type. A class is like a blueprint for an object.\n",
    "\n",
    "object ->It is a basic unit of Object-Oriented Programming and represents the real-life entities. An Object is an instance of a Class. When a class is defined, no memory is allocated but when it is instantiated (i.e. an object is created) memory is allocated. An object has an identity, state, and behavior. Each object contains data and code to manipulate the data. Objects can interact without having to know details of each other’s data or code, it is sufficient to know the type of message accepted and type of response returned by the objects. \n",
    "\n",
    "Here's an example of a simple Person class and an object of that class:\n",
    "In this example, the Person class has two attributes: name and age, and one method: say_hello. The __init__ method is a special method that gets called when an object is created and initializes its attributes."
   ]
  },
  {
   "cell_type": "code",
   "execution_count": 4,
   "id": "b606b609-417d-4d46-bbac-00eb9b371ffc",
   "metadata": {},
   "outputs": [
    {
     "name": "stdout",
     "output_type": "stream",
     "text": [
      "Pravin\n",
      "35\n",
      "Hello, my name is Pravin and I'm 35 years old.\n"
     ]
    }
   ],
   "source": [
    "class Person:\n",
    "    def __init__(self, name, age):\n",
    "        self.name = name\n",
    "        self.age = age\n",
    "\n",
    "    def say_hello(self):\n",
    "        print(f\"Hello, my name is {self.name} and I'm {self.age} years old.\")\n",
    "\n",
    "person1 = Person(\"Pravin\", 35)\n",
    "\n",
    "print(person1.name)\n",
    "print(person1.age)\n",
    "person1.say_hello()\n"
   ]
  },
  {
   "cell_type": "markdown",
   "id": "621f098f-2236-4580-9c57-6fd48ea5f649",
   "metadata": {},
   "source": [
    "#### Q2. Name the four pillars of OOPs.\n",
    "\n",
    "Ans :The four pillars of object-oriented programming are: Abstraction Encapsulation Inheritance Polymorphism"
   ]
  },
  {
   "cell_type": "markdown",
   "id": "93478f4f-4568-4571-989e-0ae2b4c75407",
   "metadata": {},
   "source": [
    "#### Q3. Explain why the init() function is used. Give a suitable example.\n",
    "\n",
    "Ans : The init() is a constructor.Constructors are used to initializing the object’s state. The task of constructors is to initialize(assign values) to the data members of the class when an object of the class is created. Like methods, a constructor also contains a collection of statements(i.e. instructions) that are executed at the time of Object creation. It is run as soon as an object of a class is instantiated."
   ]
  },
  {
   "cell_type": "code",
   "execution_count": 5,
   "id": "aa20dcea-0db2-4423-8d06-60bfa9418ab4",
   "metadata": {},
   "outputs": [
    {
     "name": "stdout",
     "output_type": "stream",
     "text": [
      "Hello, my name is Pravin\n"
     ]
    }
   ],
   "source": [
    "class Person:\n",
    "    def __init__(self, name):\n",
    "        self.name = name\n",
    "    def say_hi(self):\n",
    "        print('Hello, my name is', self.name)\n",
    "        \n",
    "p = Person('Pravin')\n",
    "p.say_hi()       "
   ]
  },
  {
   "cell_type": "markdown",
   "id": "98fad804-0e75-4365-a4cf-586df7666ae4",
   "metadata": {},
   "source": [
    "#### Q4. Why self is used in OOPs?\n",
    "\n",
    "Ans: self represents the instance of the class. By using the “self” we can access the attributes and methods of the class in python. It binds the attributes with the given arguments."
   ]
  },
  {
   "cell_type": "markdown",
   "id": "ec9e8ef0-6782-4ad3-9e72-a2e846994a9e",
   "metadata": {},
   "source": [
    "#### Q5. What is inheritance? Give an example for each type of inheritance.\n",
    "\n",
    "Ans : Inheritance is the ability of one class to inherit another class. Inheritance provides reusability of code and allows us to create complex and real-world-like relationships among objects. syntax : class SubClass(SuperClass): Types of Inheritance: 1.single level inheritance 2.multiple inheritance 3.multi-level inheritance 4.Hierarchical Inheritance"
   ]
  },
  {
   "cell_type": "code",
   "execution_count": null,
   "id": "2cc64e10-1157-491e-98e4-911f61fbbfe3",
   "metadata": {},
   "outputs": [],
   "source": []
  }
 ],
 "metadata": {
  "kernelspec": {
   "display_name": "Python 3 (ipykernel)",
   "language": "python",
   "name": "python3"
  },
  "language_info": {
   "codemirror_mode": {
    "name": "ipython",
    "version": 3
   },
   "file_extension": ".py",
   "mimetype": "text/x-python",
   "name": "python",
   "nbconvert_exporter": "python",
   "pygments_lexer": "ipython3",
   "version": "3.10.8"
  }
 },
 "nbformat": 4,
 "nbformat_minor": 5
}
