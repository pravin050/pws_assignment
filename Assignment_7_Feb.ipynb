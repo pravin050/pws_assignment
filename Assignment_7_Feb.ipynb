{
 "cells": [
  {
   "cell_type": "markdown",
   "id": "044a1823-1683-405b-bf00-a992266526a8",
   "metadata": {},
   "source": [
    "Q1. You are writing code for a company. The requirement of the company is that you create a python\n",
    "function that will check whether the password entered by the user is correct or not. The function should\n",
    "take the password as input and return the string “Valid Password” if the entered password follows the\n",
    "below-given password guidelines else it should return “Invalid Password”.\n",
    "Note: 1. The Password should contain at least two uppercase letters and at least two lowercase letters.\n",
    "2. The Password should contain at least a number and three special characters.\n",
    "3. The length of the password should be 10 characters long."
   ]
  },
  {
   "cell_type": "code",
   "execution_count": 4,
   "id": "98cdbedf-240e-427a-932b-ce1ec49410a7",
   "metadata": {},
   "outputs": [
    {
     "name": "stdout",
     "output_type": "stream",
     "text": [
      "Valid Password\n",
      "Invalid Password\n"
     ]
    }
   ],
   "source": [
    "def check_password(password):\n",
    "    if len(password) != 10:\n",
    "        return \"Invalid Password\"\n",
    "\n",
    "    uppercase_count = 0\n",
    "    lowercase_count = 0\n",
    "    digit_count = 0\n",
    "    special_count = 0\n",
    "    special_chars = ['!', '@', '#', '$', '%', '^', '&', '*', '(', ')', '-', '_', '+', '=']\n",
    "\n",
    "    for char in password:\n",
    "        if char.isupper():\n",
    "            uppercase_count += 1\n",
    "        elif char.islower():\n",
    "            lowercase_count += 1\n",
    "        elif char.isdigit():\n",
    "            digit_count += 1\n",
    "        elif char in special_chars:\n",
    "            special_count += 1\n",
    "\n",
    "    if uppercase_count < 2 or lowercase_count < 2 or digit_count < 1 or special_count < 3:\n",
    "        return \"Invalid Password\"\n",
    "    else:\n",
    "        return \"Valid Password\"\n",
    "    \n",
    "\n",
    "password = \"ASdf@#$123\"\n",
    "result = check_password(password)\n",
    "print(result) # Output: Valid Password\n",
    "\n",
    "password = \"password123\"\n",
    "result = check_password(password)\n",
    "print(result) # Output: Invalid Password\n",
    "\n"
   ]
  },
  {
   "cell_type": "markdown",
   "id": "8e89d2c1-a2c6-4fc2-be6f-fcc12760f2a3",
   "metadata": {},
   "source": [
    "Q2. Solve the below-given questions using at least one of the following:\n",
    "\n",
    "    Lambda function\n",
    "    Filter function\n",
    "    map function\n",
    "    List Comprehension\n",
    "    \n",
    "#### Check if the string starts with a particular letter."
   ]
  },
  {
   "cell_type": "code",
   "execution_count": 5,
   "id": "e8b38b0f-efe1-40e9-a752-119c9b4e0a95",
   "metadata": {},
   "outputs": [
    {
     "name": "stdout",
     "output_type": "stream",
     "text": [
      "True\n"
     ]
    }
   ],
   "source": [
    "var = \"Data science course\"\n",
    "filtered = lambda x: x.startswith('D')\n",
    "print(filtered(var))"
   ]
  },
  {
   "cell_type": "markdown",
   "id": "8f7b61f5-ff0b-4ab4-a503-2f0e2e4b799f",
   "metadata": {},
   "source": [
    "#### Check if the string is numeric\n",
    "\n",
    "Sort a list of tuples having fruit names and their quantity. [(\"mango\",99),(\"orange\",80), (\"grapes\", 1000)]"
   ]
  },
  {
   "cell_type": "code",
   "execution_count": 6,
   "id": "734c94e8-bc6d-4d5f-95a4-9f5dede7ea23",
   "metadata": {},
   "outputs": [
    {
     "name": "stdout",
     "output_type": "stream",
     "text": [
      "[('grapes', 1000), ('mango', 99), ('orange', 80)]\n"
     ]
    }
   ],
   "source": [
    "def Sort_Tuple(tup):\n",
    "    tup.sort(key = lambda x: x[0])\n",
    "    return tup\n",
    " \n",
    "tup=[(\"mango\",99),(\"orange\",80), (\"grapes\", 1000)]\n",
    "\n",
    "print(Sort_Tuple(tup))"
   ]
  },
  {
   "cell_type": "markdown",
   "id": "3983b8f4-4046-469b-a0d5-fc332d89fc9d",
   "metadata": {},
   "source": [
    "#### Find the squares of numbers from 1 to 10"
   ]
  },
  {
   "cell_type": "code",
   "execution_count": 7,
   "id": "d23d451f-8c21-454d-acb2-2e8b2bc85528",
   "metadata": {},
   "outputs": [
    {
     "data": {
      "text/plain": [
       "[1, 4, 9, 16, 25, 36, 49, 64, 81, 100]"
      ]
     },
     "execution_count": 7,
     "metadata": {},
     "output_type": "execute_result"
    }
   ],
   "source": [
    "def sqr(x):\n",
    "    return x*x\n",
    " \n",
    "list(map(sqr,range(1,11)))\n"
   ]
  },
  {
   "cell_type": "markdown",
   "id": "42b24078-3728-4f30-b289-814d313747a6",
   "metadata": {},
   "source": [
    "#### Find the cube root of numbers from 1 to 10"
   ]
  },
  {
   "cell_type": "code",
   "execution_count": 8,
   "id": "44206f5c-bd17-4f71-804a-6e60ddfe9f91",
   "metadata": {},
   "outputs": [
    {
     "name": "stdout",
     "output_type": "stream",
     "text": [
      "[1.0, 1.2599210498948732, 1.4422495703074083, 1.5874010519681994, 1.7099759466766968, 1.8171205928321397, 1.912931182772389, 2.0, 2.080083823051904, 2.154434690031884]\n"
     ]
    }
   ],
   "source": [
    "c =[1,2,3,4,5,6,7,8,9,10]\n",
    "print(list(map(lambda x : x **(1/3),c)))"
   ]
  },
  {
   "cell_type": "markdown",
   "id": "24928351-63fb-4447-9580-b6269fb5cc1a",
   "metadata": {},
   "source": [
    "#### Check if a given number is even"
   ]
  },
  {
   "cell_type": "code",
   "execution_count": 9,
   "id": "e3daa09b-ca9b-4922-9da0-24d90cf1da69",
   "metadata": {},
   "outputs": [
    {
     "data": {
      "text/plain": [
       "[2, 4, 6, 8, 10]"
      ]
     },
     "execution_count": 9,
     "metadata": {},
     "output_type": "execute_result"
    }
   ],
   "source": [
    "l1 =[1,2,3,4,5,6,7,8,9,10]\n",
    "list(filter(lambda x : x %2 ==0,l1))"
   ]
  },
  {
   "cell_type": "markdown",
   "id": "52ce721d-14a1-4459-9cc1-254acd7575e6",
   "metadata": {},
   "source": [
    "#### Sort a list of integers into positive and negative integers lists. [1,2,3,4,5,6,-1,-2,-3,-4,-5,0]\n",
    "\n"
   ]
  },
  {
   "cell_type": "code",
   "execution_count": 10,
   "id": "ff10d79e-6715-4834-acd2-ada90cef5bc4",
   "metadata": {},
   "outputs": [
    {
     "data": {
      "text/plain": [
       "[-1, -2, -3, -4, -5]"
      ]
     },
     "execution_count": 10,
     "metadata": {},
     "output_type": "execute_result"
    }
   ],
   "source": [
    "l3 = [1,2,3,4,5,6,-1,-2,-3,-4,-5,0]\n",
    "pst = list(filter(lambda x : x > 0,l3))\n",
    "\n",
    "ngt = list(filter(lambda x : x < 0,l3))\n",
    "ngt"
   ]
  },
  {
   "cell_type": "code",
   "execution_count": 11,
   "id": "2778a3bf-ad34-40b8-b6e1-5b544d67876f",
   "metadata": {},
   "outputs": [
    {
     "data": {
      "text/plain": [
       "[1, 2, 3, 4, 5, 6]"
      ]
     },
     "execution_count": 11,
     "metadata": {},
     "output_type": "execute_result"
    }
   ],
   "source": [
    "pst\n"
   ]
  },
  {
   "cell_type": "code",
   "execution_count": null,
   "id": "baf18bf9-282c-4d21-a684-4bf5cdf225a5",
   "metadata": {},
   "outputs": [],
   "source": []
  }
 ],
 "metadata": {
  "kernelspec": {
   "display_name": "Python 3 (ipykernel)",
   "language": "python",
   "name": "python3"
  },
  "language_info": {
   "codemirror_mode": {
    "name": "ipython",
    "version": 3
   },
   "file_extension": ".py",
   "mimetype": "text/x-python",
   "name": "python",
   "nbconvert_exporter": "python",
   "pygments_lexer": "ipython3",
   "version": "3.10.8"
  }
 },
 "nbformat": 4,
 "nbformat_minor": 5
}
