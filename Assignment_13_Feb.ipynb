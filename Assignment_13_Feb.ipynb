{
 "cells": [
  {
   "cell_type": "markdown",
   "id": "f777ab10-524a-4e38-adba-e40098bf46f7",
   "metadata": {},
   "source": [
    "#### Q1. Explain why we have to use the Exception class while creating a Custom Exception.\n",
    "Note: Here Exception class refers to the base class for all the exceptions."
   ]
  },
  {
   "cell_type": "markdown",
   "id": "9821288f-c79b-40e3-b98b-c962189f868d",
   "metadata": {},
   "source": [
    "\n",
    "    In python,the built-in'Exception'class is the base class for all exceptions. when we create a custom exception,we usually want it to behave like a standard exception and be compatible with the existing exception handling mechanism in python.To achieve this,we need to inherit our custom exception class from the'exception' class.\n",
    "    \n",
    "    By inheriting from the 'exception'class our custom exception inherits all the functionality of base class,such as the ability to print a traceback,get a message string,and interact with other exceptions.This allows us to use our custom exception in the same way as the built-in exceptions,with the same 'try-except'block syntax.\n",
    "    \n",
    "    in addition,by inheriting from the'Exception' class,we can make use of the built-in exception hierarchy in python.This means that our custom exception can be part of"
   ]
  },
  {
   "cell_type": "markdown",
   "id": "f20acaca-795a-4573-a98a-0f85403aafe9",
   "metadata": {},
   "source": [
    "#### Q2. Write a python program to print Python Exception Hierarchy."
   ]
  },
  {
   "cell_type": "code",
   "execution_count": 5,
   "id": "c012672f-99c7-49e0-888a-8a433cff7eca",
   "metadata": {},
   "outputs": [
    {
     "name": "stdout",
     "output_type": "stream",
     "text": [
      "<class 'BaseException'>\n"
     ]
    }
   ],
   "source": [
    "def print_exception_hierarchy(exception, depth=0):\n",
    "    print(' ' * depth + str(exception))\n",
    "    if issubclass(type(exception), BaseException):\n",
    "        for sub_exception in exception.__subclasses__():\n",
    "            print_exception_hierarchy(sub_exception, depth + 4)\n",
    "\n",
    "print_exception_hierarchy(BaseException)"
   ]
  },
  {
   "cell_type": "markdown",
   "id": "d478e402-28f2-4975-a53d-317f03275026",
   "metadata": {},
   "source": [
    "#### Q3. What errors are defined in the ArithmeticError class? Explain any two with an example."
   ]
  },
  {
   "cell_type": "markdown",
   "id": "11a51825-d94f-44d7-a5aa-5d4c8430a828",
   "metadata": {},
   "source": [
    "   The 'ArithmeticError' class is a built-in exception class in python that serves as a base class for all exceptions that occure during arithmetic operations.It is a subclass of the 'exception'class and itself the parent class for several more specific arithmetic-related exception classes.\n",
    "    \n",
    "    1.\"ZeroDivisionError\":\n",
    "          This exception is raised when we try to divide a number by zero.\n",
    "        \n",
    "        for example:"
   ]
  },
  {
   "cell_type": "code",
   "execution_count": 6,
   "id": "83cd070b-514f-43d0-a679-10926fa4a964",
   "metadata": {},
   "outputs": [
    {
     "name": "stdout",
     "output_type": "stream",
     "text": [
      "Error cannot divide by zero\n"
     ]
    }
   ],
   "source": [
    "a = 10\n",
    "b = 0\n",
    "try:\n",
    "         c = a / b\n",
    "except ZeroDivisionError:\n",
    "        print(\"Error cannot divide by zero\")\n"
   ]
  },
  {
   "cell_type": "markdown",
   "id": "9ea50848-01d9-4ea2-806a-104d54dd3021",
   "metadata": {},
   "source": [
    "2.\"OverflowError\":\n",
    "           This exception is raised when a calculation exceeds the maximum representable value for a numerical type\n",
    "        \n",
    "        for example:"
   ]
  },
  {
   "cell_type": "code",
   "execution_count": 7,
   "id": "38086115-3808-43a6-b705-f3ac808e6337",
   "metadata": {},
   "outputs": [],
   "source": [
    "import sys \n",
    "a = sys.maxsize\n",
    "try:\n",
    "    b = a * a\n",
    "except OverflowError:\n",
    "       print(\"Error:Result too large to represents as a number\")\n",
    "        \n"
   ]
  },
  {
   "cell_type": "markdown",
   "id": "d3aee878-ff5b-47be-ad8d-565f229fc145",
   "metadata": {},
   "source": [
    "overall,The \"ArithmaticError\"class and its derived exceptions are useful for handling errors that occurs during arithmatic operations,such as division by zero,integer overflow,or other numerical errors.                        \n",
    "                "
   ]
  },
  {
   "cell_type": "markdown",
   "id": "b7089e3f-824b-47ca-a1ed-0bf5174e71d3",
   "metadata": {},
   "source": [
    "#### Q4. Why LookupError class is used? Explain with an example KeyError and IndexError."
   ]
  },
  {
   "cell_type": "markdown",
   "id": "30205a42-e621-491d-98f2-cf935fc71419",
   "metadata": {},
   "source": [
    "The \"LookupError\" class is a built-in exception class in python that serves as a base class for all exceptions that occure when a key or index not found during a lookup operation.It is a subclass of the \"Exception\"class and its itself the parent class for several more specific lookup-related exception classes.\n",
    "    \n",
    "1.KeyError- This exception is raised when a dictionary key is not found in the dictionary.\n",
    "\n",
    "2.IndexError: This exception is raised when we try to access an index that is out of range for alist or other sequences.\n"
   ]
  },
  {
   "cell_type": "code",
   "execution_count": 9,
   "id": "b5a76130-1d82-4d51-a378-645e30b6a876",
   "metadata": {},
   "outputs": [
    {
     "name": "stdout",
     "output_type": "stream",
     "text": [
      "Error: Key 'd' not found in dictionary\n",
      "Error : Index 3 is out of range for list\n"
     ]
    }
   ],
   "source": [
    "#KeyError Example \n",
    "\n",
    "my_dict = {'a': 1, 'b' : 2 ,'c' : 3}\n",
    "try:\n",
    "    value = my_dict['d']\n",
    "except KeyError:\n",
    "      print(\"Error: Key 'd' not found in dictionary\")\n",
    "      \n",
    "# IndexError Example\n",
    "my_list = [1,2,3]\n",
    "try:\n",
    "     value = my_list[3]\n",
    "except IndexError:\n",
    "    print(\"Error : Index 3 is out of range for list\")"
   ]
  },
  {
   "cell_type": "markdown",
   "id": "d2e71a6f-5d43-4c38-8d03-447d47fca213",
   "metadata": {},
   "source": [
    "#### Q5. Explain ImportError. What is ModuleNotFoundError?"
   ]
  },
  {
   "cell_type": "markdown",
   "id": "402357a8-b614-457f-8b9d-5c500af29fbd",
   "metadata": {},
   "source": [
    "\"ImportError\" is a built-in Exception class in python that is raised when an imported module,package,or name cannot be found or loaded.This can occure due to various reasons such as misspelled module name,missing dependencies or incorrect python path settings.\n",
    "for example- \"ModuleNotFoundFrror\" is a more specific type of \"ImportError\" that was introduced in python 3.6.\n",
    "\n",
    "#python 3.6 and later\n",
    "import foo #raises ModuleNotFoundError: No module named 'foo'\n",
    "\n",
    "#python 3.5 and earlier\n",
    "import foo #raises ImportError: No module named 'foo'\n",
    "\n",
    "\"ModuleNotFoundError\" some other types of \"ImportError\"that we may encounter include:\n",
    "    \n",
    "    1.\"ImportError:cannot import name\"\n",
    "    2.\"ImportError:DLL load failed\""
   ]
  },
  {
   "cell_type": "markdown",
   "id": "99e72966-11da-46bd-8d38-7d3b2480036a",
   "metadata": {},
   "source": [
    "#### Q6. List down some best practices for exception handling in python."
   ]
  },
  {
   "cell_type": "markdown",
   "id": "d09557c3-6d0b-460f-9bb8-9b3be6dcefc4",
   "metadata": {},
   "source": [
    "\n",
    "      1.Catch Specific exceptions\n",
    "      2.Use try-except blocks\n",
    "      3.Use finally block\n",
    "      4.Raise exception\n",
    "      5.provide useful error messages\n",
    "      6.Log the exceptions\n",
    "      7.Use context managers\n",
    "      8.Test exception handling"
   ]
  },
  {
   "cell_type": "code",
   "execution_count": null,
   "id": "4e6abbdc-95ce-4115-82fa-39d814314b16",
   "metadata": {},
   "outputs": [],
   "source": []
  }
 ],
 "metadata": {
  "kernelspec": {
   "display_name": "Python 3 (ipykernel)",
   "language": "python",
   "name": "python3"
  },
  "language_info": {
   "codemirror_mode": {
    "name": "ipython",
    "version": 3
   },
   "file_extension": ".py",
   "mimetype": "text/x-python",
   "name": "python",
   "nbconvert_exporter": "python",
   "pygments_lexer": "ipython3",
   "version": "3.10.8"
  }
 },
 "nbformat": 4,
 "nbformat_minor": 5
}
