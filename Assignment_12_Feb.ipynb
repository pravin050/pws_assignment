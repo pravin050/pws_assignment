{
 "cells": [
  {
   "cell_type": "markdown",
   "id": "56714e58-8cfa-49f7-ace5-15ed1d19f153",
   "metadata": {},
   "source": [
    "#### Q1. What is an Exception in python? Write the difference between Exceptions and syntax errors.\n",
    "\n",
    "An exception is an event, which occurs during the execution of a program that disrupts the normal flow of the program's instructions.\n",
    "\n",
    "Error in Python can be of two types i.e. Syntax errors and Exceptions. Errors are the problems in a program due to which the program will stop the execution. On the other hand, exceptions are raised when some internal events occur which changes the normal flow of the program.\n",
    "\n",
    "Syntax Error: As the name suggests this error is caused by the wrong syntax in the code. It leads to the termination of the program. Exceptions: Exceptions are raised when the program is syntactically correct, but the code resulted in an error. This error does not stop the execution of the program, however, it changes the normal flow of the program.\n",
    "\n",
    "#### Q2. What happens when an exception is not handled? Explain with an example\n",
    "\n",
    "when we will not handled the the exception cast our program is crashed.\n",
    "\n",
    "numerator = 10\n",
    "denominator = 0\n",
    "\n",
    "result = numerator/denominator\n",
    "\n",
    "print(result)\n",
    "\n",
    "#### Q3. Q3. Which Python statements are used to catch and handle exceptions? Explain withan example\n",
    "\n",
    "Try and except statements are used to catch and handle exceptions in Python. Statements that can raise exceptions are kept inside the try clause and the statements that handle the exception are written inside except clause."
   ]
  },
  {
   "cell_type": "code",
   "execution_count": 1,
   "id": "4073d5c6-5d7b-4c90-b3e0-c04063529ca3",
   "metadata": {},
   "outputs": [
    {
     "name": "stdout",
     "output_type": "stream",
     "text": [
      "You have divided a number by zero, which is not allowed.\n"
     ]
    }
   ],
   "source": [
    "try:\n",
    "    a = 10\n",
    "    b = 0\n",
    "    print(\"Result of Division: \" + str(a/b))\n",
    "except:\n",
    "    print(\"You have divided a number by zero, which is not allowed.\")"
   ]
  },
  {
   "cell_type": "markdown",
   "id": "8d6d0065-5df6-42c8-94f5-fe465988268d",
   "metadata": {},
   "source": [
    "#### Q4. Explain with an example"
   ]
  },
  {
   "cell_type": "markdown",
   "id": "a69865af-6900-4be7-8d22-e948a82d4cbf",
   "metadata": {},
   "source": [
    "\n",
    "    a. try and else\n",
    "    b. finally\n",
    "    c. raise"
   ]
  },
  {
   "cell_type": "code",
   "execution_count": 3,
   "id": "ace3e0a3-5087-4407-a354-3a3b80ee4fe6",
   "metadata": {},
   "outputs": [
    {
     "name": "stdout",
     "output_type": "stream",
     "text": [
      "cannot divide by zero\n",
      "This block always executes\n"
     ]
    },
    {
     "ename": "ValueError",
     "evalue": "Custom error message",
     "output_type": "error",
     "traceback": [
      "\u001b[0;31m---------------------------------------------------------------------------\u001b[0m",
      "\u001b[0;31mValueError\u001b[0m                                Traceback (most recent call last)",
      "Cell \u001b[0;32mIn[3], line 9\u001b[0m\n\u001b[1;32m      7\u001b[0m \u001b[38;5;28;01mfinally\u001b[39;00m:\n\u001b[1;32m      8\u001b[0m     \u001b[38;5;28mprint\u001b[39m(\u001b[38;5;124m\"\u001b[39m\u001b[38;5;124mThis block always executes\u001b[39m\u001b[38;5;124m\"\u001b[39m)\n\u001b[0;32m----> 9\u001b[0m     \u001b[38;5;28;01mraise\u001b[39;00m \u001b[38;5;167;01mValueError\u001b[39;00m(\u001b[38;5;124m\"\u001b[39m\u001b[38;5;124mCustom error message\u001b[39m\u001b[38;5;124m\"\u001b[39m)\n",
      "\u001b[0;31mValueError\u001b[0m: Custom error message"
     ]
    }
   ],
   "source": [
    "    try:\n",
    "        x = 10/0\n",
    "    except ZeroDivisionError:\n",
    "        print(\"cannot divide by zero\")\n",
    "    else:\n",
    "        print(\"Division Successful\")\n",
    "    finally:\n",
    "        print(\"This block always executes\")\n",
    "        raise ValueError(\"Custom error message\")"
   ]
  },
  {
   "cell_type": "markdown",
   "id": "8312337c-bcbb-4bef-b1e9-f49899033526",
   "metadata": {},
   "source": [
    "#### Q5. What are custom Exception in python? Why do need custom Exceptions?Explain with an example."
   ]
  },
  {
   "cell_type": "markdown",
   "id": "5bbe9e67-b7c2-45a7-9528-5601a6e0ed27",
   "metadata": {},
   "source": [
    "custom exception is an user-defined exception,in which user can defined exception according to him/her requirement.\n",
    "\n",
    "We can create a custom Exception class to define the new Exception. Again, the idea behind using a Class is because Python treats everything as a Class. So it doesn’t seem that outlandish that an Exception can be a class as well!"
   ]
  },
  {
   "cell_type": "code",
   "execution_count": 5,
   "id": "a106b8bc-cc62-49af-861e-0a79a9f22e67",
   "metadata": {},
   "outputs": [
    {
     "name": "stdout",
     "output_type": "stream",
     "text": [
      "Printing Errors:\n",
      "Custom Error\n"
     ]
    },
    {
     "ename": "MyException",
     "evalue": "Custom Message",
     "output_type": "error",
     "traceback": [
      "\u001b[0;31m---------------------------------------------------------------------------\u001b[0m",
      "\u001b[0;31mMyException\u001b[0m                               Traceback (most recent call last)",
      "Cell \u001b[0;32mIn[5], line 18\u001b[0m\n\u001b[1;32m     12\u001b[0m         \u001b[38;5;28;01mraise\u001b[39;00m MyException(\u001b[38;5;124m'\u001b[39m\u001b[38;5;124mCustom Message\u001b[39m\u001b[38;5;124m'\u001b[39m, \u001b[38;5;124m'\u001b[39m\u001b[38;5;124mCustom Error\u001b[39m\u001b[38;5;124m'\u001b[39m)\n\u001b[1;32m     14\u001b[0m \u001b[38;5;66;03m# MyException will not be raised\u001b[39;00m\n\u001b[1;32m     15\u001b[0m \u001b[38;5;66;03m# list_check([1, 2, 3, 4])\u001b[39;00m\n\u001b[1;32m     16\u001b[0m  \n\u001b[1;32m     17\u001b[0m \u001b[38;5;66;03m# MyException will be raised\u001b[39;00m\n\u001b[0;32m---> 18\u001b[0m \u001b[43mlist_check\u001b[49m\u001b[43m(\u001b[49m\u001b[43m[\u001b[49m\u001b[38;5;241;43m1\u001b[39;49m\u001b[43m,\u001b[49m\u001b[43m \u001b[49m\u001b[38;5;241;43m3\u001b[39;49m\u001b[43m,\u001b[49m\u001b[43m \u001b[49m\u001b[38;5;241;43m5\u001b[39;49m\u001b[43m]\u001b[49m\u001b[43m)\u001b[49m\n",
      "Cell \u001b[0;32mIn[5], line 12\u001b[0m, in \u001b[0;36mlist_check\u001b[0;34m(lst)\u001b[0m\n\u001b[1;32m     10\u001b[0m \u001b[38;5;28;01mdef\u001b[39;00m \u001b[38;5;21mlist_check\u001b[39m(lst):\n\u001b[1;32m     11\u001b[0m     \u001b[38;5;28;01mif\u001b[39;00m \u001b[38;5;28mlen\u001b[39m(lst) \u001b[38;5;241m%\u001b[39m \u001b[38;5;241m2\u001b[39m \u001b[38;5;241m!=\u001b[39m \u001b[38;5;241m0\u001b[39m:\n\u001b[0;32m---> 12\u001b[0m         \u001b[38;5;28;01mraise\u001b[39;00m MyException(\u001b[38;5;124m'\u001b[39m\u001b[38;5;124mCustom Message\u001b[39m\u001b[38;5;124m'\u001b[39m, \u001b[38;5;124m'\u001b[39m\u001b[38;5;124mCustom Error\u001b[39m\u001b[38;5;124m'\u001b[39m)\n",
      "\u001b[0;31mMyException\u001b[0m: Custom Message"
     ]
    }
   ],
   "source": [
    "class MyException(Exception):\n",
    "    def __init__(self, message, errors):\n",
    "        \n",
    "        super().__init__(message)\n",
    "        self.errors = errors\n",
    "        # Display the errors\n",
    "        print('Printing Errors:')\n",
    "        print(errors)\n",
    " \n",
    "def list_check(lst):\n",
    "    if len(lst) % 2 != 0:\n",
    "        raise MyException('Custom Message', 'Custom Error')\n",
    " \n",
    "# MyException will not be raised\n",
    "# list_check([1, 2, 3, 4])\n",
    " \n",
    "# MyException will be raised\n",
    "list_check([1, 3, 5])"
   ]
  },
  {
   "cell_type": "markdown",
   "id": "1f5b8c2b-3c92-4104-b09e-ac213bae7782",
   "metadata": {},
   "source": [
    "#### Q6. Create custom exception class. Use this class to handle an exception."
   ]
  },
  {
   "cell_type": "code",
   "execution_count": 6,
   "id": "788e45e4-5921-4506-a15a-3221e6e4df26",
   "metadata": {},
   "outputs": [
    {
     "name": "stdin",
     "output_type": "stream",
     "text": [
      "Enter a number:  55\n"
     ]
    },
    {
     "name": "stdout",
     "output_type": "stream",
     "text": [
      "Eligible to Vote\n"
     ]
    }
   ],
   "source": [
    "# define Python user-defined exceptions\n",
    "class InvalidAgeException(Exception):\n",
    "    \"Raised when the input value is less than 18\"\n",
    "    pass\n",
    "\n",
    "# you need to guess this number\n",
    "number = 18\n",
    "\n",
    "try:\n",
    "    input_num = int(input(\"Enter a number: \"))\n",
    "    if input_num < number:\n",
    "        raise InvalidAgeException\n",
    "    else:\n",
    "        print(\"Eligible to Vote\")\n",
    "        \n",
    "except InvalidAgeException:\n",
    "    print(\"Exception occurred: Invalid Age\")"
   ]
  },
  {
   "cell_type": "code",
   "execution_count": null,
   "id": "70bd9e3a-46e7-4dbc-9853-924429311b4a",
   "metadata": {},
   "outputs": [],
   "source": []
  }
 ],
 "metadata": {
  "kernelspec": {
   "display_name": "Python 3 (ipykernel)",
   "language": "python",
   "name": "python3"
  },
  "language_info": {
   "codemirror_mode": {
    "name": "ipython",
    "version": 3
   },
   "file_extension": ".py",
   "mimetype": "text/x-python",
   "name": "python",
   "nbconvert_exporter": "python",
   "pygments_lexer": "ipython3",
   "version": "3.10.8"
  }
 },
 "nbformat": 4,
 "nbformat_minor": 5
}
