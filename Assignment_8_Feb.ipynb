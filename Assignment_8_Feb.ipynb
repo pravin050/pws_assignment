{
 "cells": [
  {
   "cell_type": "markdown",
   "id": "91402144-e442-40ac-8d21-c49cd21db676",
   "metadata": {},
   "source": [
    "#### Q1. What is Abstraction in OOps? Explain with an example.\n",
    "\n",
    "Ans : Abstraction is used to hide the internal functionality of the function from the users. User is familiar with that \"what function does\" but they don't know \"how it does.\" In simple words, we all use the smartphone and very much familiar with its functions such as camera, voice-recorder, call-dialing, etc., but we don't know how these operations are happening in the background.\n",
    "\n",
    "In Python, abstraction can be achieved by using abstract classes and interfaces."
   ]
  },
  {
   "cell_type": "code",
   "execution_count": 2,
   "id": "1c74c0aa-a949-42ab-baaf-0f18e924e4a4",
   "metadata": {},
   "outputs": [
    {
     "name": "stdout",
     "output_type": "stream",
     "text": [
      "The mileage of Tesla is 30kmph\n",
      "The mileage of Renault is 27kmph \n",
      "The mileage of Suzuki is 25kmph \n",
      "The mileage of Duster is 24kmph \n"
     ]
    }
   ],
   "source": [
    "from abc import ABC, abstractmethod   \n",
    "class Car(ABC):   \n",
    "    def mileage(self):   \n",
    "        pass  \n",
    "  \n",
    " \n",
    "class Tesla(Car):   \n",
    "    def mileage(self):   \n",
    "        print(\"The mileage of Tesla is 30kmph\")   \n",
    "class Suzuki(Car):   \n",
    "    def mileage(self):   \n",
    "        print(\"The mileage of Suzuki is 25kmph \")   \n",
    "class Duster(Car):   \n",
    "     def mileage(self):   \n",
    "          print(\"The mileage of Duster is 24kmph \")   \n",
    "  \n",
    "\n",
    "class Renault(Car):   \n",
    "    def mileage(self):   \n",
    "            print(\"The mileage of Renault is 27kmph \")   \n",
    "          \n",
    "   \n",
    "t= Tesla ()   \n",
    "t.mileage()   \n",
    "  \n",
    "r = Renault()   \n",
    "r.mileage()   \n",
    "  \n",
    "s = Suzuki()   \n",
    "s.mileage() \n",
    "\n",
    "d = Duster()   \n",
    "d.mileage()  "
   ]
  },
  {
   "cell_type": "markdown",
   "id": "7fff441b-db56-40ea-957b-e0fe9b13b653",
   "metadata": {},
   "source": [
    "#### Q2. Differentiate between Abstraction and Encapsulation. Explain with an example."
   ]
  },
  {
   "cell_type": "markdown",
   "id": "6e8b4060-bd01-4c3f-a5cc-c987dc1682ae",
   "metadata": {},
   "source": [
    "Abstraction shows only useful data by providing the most necessary details, whereas Encapsulation wraps code and data for necessary information.\n",
    "\n",
    "Abstraction is focused mainly on what should be done, while Encapsulation is focused on how it should be done.\n",
    "\n",
    "Abstraction hides complexity by giving you a more abstract picture, while Encapsulation hides internal work so that you can change it later.\n",
    "\n",
    "Abstraction helps you to partition the program into many independent portions, whereas Encapsulation is easy to change with new requirements.\n",
    "\n",
    "Comparing Encapsulation vs Abstraction, Abstraction solves problems at the design level while Encapsulation solves problems at the implementation level.\n",
    "\n",
    "Abstraction hides the irrelevant details found in the code, whereas Encapsulation helps developers to organize the entire code easily."
   ]
  },
  {
   "cell_type": "markdown",
   "id": "7c69eb2a-f855-44a8-b252-11ebb9c61268",
   "metadata": {},
   "source": [
    "#### Q3. What is abc module in python? Why is it used?"
   ]
  },
  {
   "cell_type": "markdown",
   "id": "f2ce8098-921c-46a7-8e7e-80060485f554",
   "metadata": {},
   "source": [
    "The abc module in Python stands for \"Abstract Base Classes\". It provides a way to define abstract classes in Python, which are classes that cannot be instantiated directly and are meant to be subclassed.\n",
    "\n",
    "The abc module is used to enforce a certain level of structure and consistency in Python code by providing a mechanism for defining abstract classes and abstract methods, which must be implemented by concrete subclasses. This can be useful for creating interfaces or APIs that other developers can use to ensure that their code is compatible with yours.\n",
    "\n",
    "For example, if you are writing a library that includes a class hierarchy, you might define an abstract base class that specifies a set of methods that must be implemented by any concrete subclass. By doing this, you can ensure that any code that uses your library will be able to rely on the existence of those methods in any concrete implementation of the abstract class.\n",
    "\n",
    "In summary, the abc module is used to define abstract classes and abstract methods in Python, which can help enforce a certain level of structure and consistency in code and create interfaces or APIs that other developers can use."
   ]
  },
  {
   "cell_type": "markdown",
   "id": "fd63383e-fa34-4f79-8f1b-6be83377be56",
   "metadata": {},
   "source": [
    "#### Q4. How can we achieve data abstraction?"
   ]
  },
  {
   "cell_type": "markdown",
   "id": "89da4f25-7e35-48f7-98fe-8a4c847935eb",
   "metadata": {},
   "source": [
    "Data abstraction is the process of hiding the underlying complexity of data and presenting it in a simplified form that is easier to understand and use. It can be achieved in several ways:\n",
    "\n",
    "Abstraction Layers: Abstraction layers are a set of intermediate representations of data that hide the complexity of the underlying data and present it in a simplified form. For example, an operating system provides an abstraction layer between the hardware and the software, allowing software to interact with the hardware without requiring knowledge of the underlying complexity.\n",
    "\n",
    "Encapsulation: Encapsulation is a technique in which the internal representation of an object is hidden from the outside world, and the object can be manipulated only through a well-defined interface. This allows data to be abstracted and protects it from unintended modifications.\n",
    "\n",
    "Abstract Data Types: Abstract data types are data structures that define a set of operations that can be performed on the data, but hide the underlying implementation details. For example, a stack is an abstract data type that defines the operations \"push\" and \"pop\", but the underlying implementation of the stack could be a linked list, an array, or any other data structure.\n",
    "\n",
    "Interfaces: An interface is a set of rules that define how an object can interact with the outside world. Interfaces allow data to be abstracted by defining the operations that can be performed on the data, but hiding the underlying implementation details.\n",
    "\n",
    "Modularity: Modularity is the principle of breaking down a system into smaller, more manageable parts. By dividing a system into smaller, more manageable parts, each part can be treated as a separate abstract data type, making the overall system easier to understand and maintain.\n",
    "\n",
    "By using these techniques, it's possible to achieve data abstraction and make data easier to use and understand, while hiding the underlying complexity."
   ]
  },
  {
   "cell_type": "markdown",
   "id": "04425278-c940-4862-b04f-8f60f0e6365c",
   "metadata": {},
   "source": [
    "#### Q5. Can we create an instance of an abstract class? Explain your answer.\n",
    "\n",
    "no.we can't create instace of abstract class."
   ]
  },
  {
   "cell_type": "code",
   "execution_count": null,
   "id": "4c425d6d-4540-4af2-b858-a92514caf1f4",
   "metadata": {},
   "outputs": [],
   "source": []
  }
 ],
 "metadata": {
  "kernelspec": {
   "display_name": "Python 3 (ipykernel)",
   "language": "python",
   "name": "python3"
  },
  "language_info": {
   "codemirror_mode": {
    "name": "ipython",
    "version": 3
   },
   "file_extension": ".py",
   "mimetype": "text/x-python",
   "name": "python",
   "nbconvert_exporter": "python",
   "pygments_lexer": "ipython3",
   "version": "3.10.8"
  }
 },
 "nbformat": 4,
 "nbformat_minor": 5
}
