{
 "cells": [
  {
   "cell_type": "code",
   "execution_count": 6,
   "id": "ecf218fc-d221-447a-838a-a98a9db7908b",
   "metadata": {},
   "outputs": [],
   "source": [
    "# Q1 - Explain with an example each when to use a for loop and a while loop."
   ]
  },
  {
   "cell_type": "code",
   "execution_count": 56,
   "id": "579ecbb3-76ca-4d82-823a-2a4f30779f9b",
   "metadata": {},
   "outputs": [
    {
     "data": {
      "text/plain": [
       " 'for' loop is used when we want to repeat a set of instructions a specific number of times and 'while' loop is used we want to repeat a set of instructions number of times, until a specific condition is met'"
      ]
     },
     "execution_count": 56,
     "metadata": {},
     "output_type": "execute_result"
    }
   ],
   "source": [
    "'''A for loop is used when we want to repeat a set of instructions a specific number of times \n",
    "and A while loop is used we want to repeat a set of instructions number of times, until a specific condition is met'''"
   ]
  },
  {
   "cell_type": "code",
   "execution_count": 8,
   "id": "c88cbed3-a68d-4cc3-84c8-18011c6eec77",
   "metadata": {},
   "outputs": [
    {
     "name": "stdout",
     "output_type": "stream",
     "text": [
      "1\n",
      "2\n",
      "3\n",
      "4\n",
      "5\n",
      "6\n",
      "7\n",
      "8\n",
      "9\n",
      "10\n"
     ]
    }
   ],
   "source": [
    "for i in range(1, 11):\n",
    "  print(i)"
   ]
  },
  {
   "cell_type": "code",
   "execution_count": 10,
   "id": "f9330fc5-caa6-4575-9eb0-bce65ddfc295",
   "metadata": {},
   "outputs": [
    {
     "name": "stdout",
     "output_type": "stream",
     "text": [
      "1\n",
      "2\n",
      "3\n",
      "4\n",
      "5\n",
      "6\n",
      "7\n",
      "8\n",
      "9\n",
      "10\n"
     ]
    }
   ],
   "source": [
    "i = 1\n",
    "stop = 10\n",
    "\n",
    "while i <= stop:\n",
    "  print(i)\n",
    "  i=i+1 \n"
   ]
  },
  {
   "cell_type": "code",
   "execution_count": 11,
   "id": "ed2d1754-b322-46a4-b21d-cd398df0b318",
   "metadata": {},
   "outputs": [],
   "source": [
    "#################################################"
   ]
  },
  {
   "cell_type": "code",
   "execution_count": 13,
   "id": "e7e9e8b3-297c-451b-af47-e4532c7d1521",
   "metadata": {},
   "outputs": [
    {
     "data": {
      "text/plain": [
       "' Q2. Write a python program to print the sum and product of the first 10 natural numbers using for\\nand while loop.'"
      ]
     },
     "execution_count": 13,
     "metadata": {},
     "output_type": "execute_result"
    }
   ],
   "source": [
    "\"\"\" Q2. Write a python program to print the sum and product of the first 10 natural numbers using for\n",
    "and while loop.\"\"\""
   ]
  },
  {
   "cell_type": "code",
   "execution_count": 22,
   "id": "edf17a91-0a0f-48fd-bc90-8e9b799156bb",
   "metadata": {},
   "outputs": [
    {
     "name": "stdout",
     "output_type": "stream",
     "text": [
      "sum of 1st 10 natural no is  55\n",
      "product of 1st 10 natural no is  3628800\n"
     ]
    }
   ],
   "source": [
    "s=0\n",
    "p=1\n",
    "for i in range(1,11):\n",
    "    s=s+i\n",
    "    p=p*i\n",
    "print(\"sum of 1st 10 natural no is \", s)\n",
    "print(\"product of 1st 10 natural no is \", p)"
   ]
  },
  {
   "cell_type": "code",
   "execution_count": 23,
   "id": "efce8d43-8285-4546-bfb1-0b8e78c446ad",
   "metadata": {},
   "outputs": [
    {
     "name": "stdout",
     "output_type": "stream",
     "text": [
      "sum of 1st 10 natural no is  55\n",
      "product of 1st 10 natural no is  3628800\n"
     ]
    }
   ],
   "source": [
    "i=1\n",
    "s=0\n",
    "p=1\n",
    "while i <=10:\n",
    "    s=s+i\n",
    "    p=p*i\n",
    "    i=i+1\n",
    "print(\"sum of 1st 10 natural no is \", s)\n",
    "print(\"product of 1st 10 natural no is \", p)"
   ]
  },
  {
   "cell_type": "code",
   "execution_count": 24,
   "id": "af1274f7-e023-41be-bb83-d6527818aa07",
   "metadata": {},
   "outputs": [],
   "source": [
    "###########################################################"
   ]
  },
  {
   "cell_type": "code",
   "execution_count": 25,
   "id": "3d06954d-da2d-43ba-94aa-8f618d291e9d",
   "metadata": {},
   "outputs": [
    {
     "data": {
      "text/plain": [
       "' create a python program to compute the electricity bill for a household.\\nThe per-unit charges in rupees are as follows: For the first 100 units, the user will be charged Rs. 4.5 per\\nunit, for the next 100 units, the user will be charged Rs. 6 per unit, and for the next 100 units, the user will\\nbe charged Rs. 10 per unit, After 300 units and above the user will be charged Rs. 20 per unit.\\nYou are required to take the units of electricity consumed in a month from the user as input.\\nYour program must pass this test case: when the unit of electricity consumed by the user in a month is\\n310, the total electricity bill should be 2250.'"
      ]
     },
     "execution_count": 25,
     "metadata": {},
     "output_type": "execute_result"
    }
   ],
   "source": [
    "''' create a python program to compute the electricity bill for a household.\n",
    "The per-unit charges in rupees are as follows: For the first 100 units, the user will be charged Rs. 4.5 per\n",
    "unit, for the next 100 units, the user will be charged Rs. 6 per unit, and for the next 100 units, the user will\n",
    "be charged Rs. 10 per unit, After 300 units and above the user will be charged Rs. 20 per unit.\n",
    "You are required to take the units of electricity consumed in a month from the user as input.\n",
    "Your program must pass this test case: when the unit of electricity consumed by the user in a month is\n",
    "310, the total electricity bill should be 2250.'''\n"
   ]
  },
  {
   "cell_type": "code",
   "execution_count": 53,
   "id": "09c33999-a453-406b-934e-2296330206f8",
   "metadata": {},
   "outputs": [
    {
     "name": "stdin",
     "output_type": "stream",
     "text": [
      "units of electricity consumed in a month:  310\n"
     ]
    },
    {
     "name": "stdout",
     "output_type": "stream",
     "text": [
      "\n",
      "your consumed unit is 310 and your bill is 2250.0 Rs.\n",
      "\n"
     ]
    }
   ],
   "source": [
    "\n",
    "x = int(input(\"units of electricity consumed in a month: \"))\n",
    "\n",
    "if x<=100:\n",
    "    bill=x*4.5\n",
    "elif x <=200:\n",
    "    bill = 100*4.5 + (x-100)*6\n",
    "elif x<=300:\n",
    "    bill = 100*4.5 + 100*6 + (x-200)*10\n",
    "else:\n",
    "    bill = 100*4.5 + 100*6 + 100*10 + (x-300)*20\n",
    "print('\\nyour consumed unit is', x , 'and your bill is', bill, 'Rs.\\n')\n"
   ]
  },
  {
   "cell_type": "code",
   "execution_count": 54,
   "id": "72f1f02c-026b-4b04-b708-b07478f425a1",
   "metadata": {},
   "outputs": [],
   "source": [
    "###########################################################"
   ]
  },
  {
   "cell_type": "code",
   "execution_count": 55,
   "id": "2e787191-333a-4445-881f-74d4337f2398",
   "metadata": {},
   "outputs": [
    {
     "data": {
      "text/plain": [
       "'Q4. Create a list of numbers from 1 to 100. Use for loop and while loop to calculate the cube of each\\nnumber and if the cube of that number is divisible by 4 or 5 then append that number in a list and print\\nthat list.'"
      ]
     },
     "execution_count": 55,
     "metadata": {},
     "output_type": "execute_result"
    }
   ],
   "source": [
    "'''Q4. Create a list of numbers from 1 to 100. Use for loop and while loop to calculate the cube of each\n",
    "number and if the cube of that number is divisible by 4 or 5 then append that number in a list and print\n",
    "that list.'''"
   ]
  },
  {
   "cell_type": "code",
   "execution_count": 1,
   "id": "87e7c9a1-cea5-4bd1-b340-e37b5551f50e",
   "metadata": {},
   "outputs": [
    {
     "name": "stdout",
     "output_type": "stream",
     "text": [
      "[2, 4, 5, 6, 8, 10, 12, 14, 15, 16, 18, 20, 22, 24, 25, 26, 28, 30, 32, 34, 35, 36, 38, 40, 42, 44, 45, 46, 48, 50, 52, 54, 55, 56, 58, 60, 62, 64, 65, 66, 68, 70, 72, 74, 75, 76, 78, 80, 82, 84, 85, 86, 88, 90, 92, 94, 95, 96, 98, 100]\n"
     ]
    }
   ],
   "source": [
    "x1=list(range(1,101))\n",
    "#print(x1)\n",
    "x2=[]\n",
    "for i in x1:\n",
    "    cube=i**3\n",
    "    if cube % 4 == 0 or cube % 5 == 0:\n",
    "        x2.append(i)\n",
    "print(x2)\n"
   ]
  },
  {
   "cell_type": "code",
   "execution_count": 3,
   "id": "29af5cef-f693-468a-b60e-6886ad0f5e08",
   "metadata": {},
   "outputs": [
    {
     "name": "stdout",
     "output_type": "stream",
     "text": [
      "[2, 4, 5, 6, 8, 10, 12, 14, 15, 16, 18, 20, 22, 24, 25, 26, 28, 30, 32, 34, 35, 36, 38, 40, 42, 44, 45, 46, 48, 50, 52, 54, 55, 56, 58, 60, 62, 64, 65, 66, 68, 70, 72, 74, 75, 76, 78, 80, 82, 84, 85, 86, 88, 90, 92, 94, 95, 96, 98, 100]\n"
     ]
    }
   ],
   "source": [
    "x2=[]\n",
    "i = 1\n",
    "while i <= 100:\n",
    "    cube=i**3\n",
    "    if cube % 4 == 0 or cube % 5 == 0:\n",
    "        x2.append(i)\n",
    "    i=i+1\n",
    "print(x2)"
   ]
  },
  {
   "cell_type": "code",
   "execution_count": 4,
   "id": "665ab0e7-65f8-4a97-b3f2-4ab80fea1c11",
   "metadata": {},
   "outputs": [],
   "source": [
    "###########################################################\n"
   ]
  },
  {
   "cell_type": "code",
   "execution_count": 5,
   "id": "c8c7c3b0-38a5-4064-9a12-05020071db31",
   "metadata": {},
   "outputs": [
    {
     "data": {
      "text/plain": [
       "'Q5. Write a program to filter count vowels in the below-given string.\\nstring = \"I want to become a data scientist\"'"
      ]
     },
     "execution_count": 5,
     "metadata": {},
     "output_type": "execute_result"
    }
   ],
   "source": [
    "'''Q5. Write a program to filter count vowels in the below-given string.\n",
    "string = \"I want to become a data scientist\"'''"
   ]
  },
  {
   "cell_type": "code",
   "execution_count": 3,
   "id": "a29da1f6-0ee8-4b6e-830a-2a582ee02135",
   "metadata": {},
   "outputs": [
    {
     "name": "stdout",
     "output_type": "stream",
     "text": [
      "total count of vowels in given string is  12\n"
     ]
    }
   ],
   "source": [
    "x=\"I want to become a data scientist\"\n",
    "vowels = \"aeiouAEIOU\"\n",
    "count = 0\n",
    "\n",
    "for i in x:\n",
    "    if i in vowels:\n",
    "        count=count+1\n",
    "print('total count of vowels in given string is ', count)"
   ]
  },
  {
   "cell_type": "code",
   "execution_count": null,
   "id": "2f2d9f98-edb3-4ae5-b1a3-eea18cc6e5ec",
   "metadata": {},
   "outputs": [],
   "source": []
  }
 ],
 "metadata": {
  "kernelspec": {
   "display_name": "Python 3 (ipykernel)",
   "language": "python",
   "name": "python3"
  },
  "language_info": {
   "codemirror_mode": {
    "name": "ipython",
    "version": 3
   },
   "file_extension": ".py",
   "mimetype": "text/x-python",
   "name": "python",
   "nbconvert_exporter": "python",
   "pygments_lexer": "ipython3",
   "version": "3.10.8"
  }
 },
 "nbformat": 4,
 "nbformat_minor": 5
}
