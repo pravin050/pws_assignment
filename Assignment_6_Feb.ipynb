{
 "cells": [
  {
   "cell_type": "markdown",
   "id": "f133c6b8-519c-49cf-bacb-d24c3066966e",
   "metadata": {},
   "source": [
    "#### Q1. Create a function which will take a list as an argument and return the product of all the numbers after creating a flat list.\n",
    "Use the below-given list as an argument for your function.\n",
    "list1 = [1,2,3,4, [44,55,66, True], False, (34,56,78,89,34), {1,2,3,3,2,1}, {1:34, \"key2\": [55, 67, 78, 89], 4: (45,\n",
    "22, 61, 34)}, [56, 'data science'], 'Machine Learning']\n",
    "\n",
    "Note: you must extract numeric keys and values of the dictionary also."
   ]
  },
  {
   "cell_type": "code",
   "execution_count": 31,
   "id": "78612e03-bee2-45d7-b372-de422c357983",
   "metadata": {},
   "outputs": [
    {
     "name": "stdout",
     "output_type": "stream",
     "text": [
      "\n",
      " [1, 2, 3, 4, 44, 55, 66, 34, 56, 78, 89, 34, 1, 2, 3, 34, 55, 67, 78, 89, 45, 22, 61, 34, 1, 4, 56]\n",
      "\n",
      " 4134711838987085478833841242112000\n"
     ]
    }
   ],
   "source": [
    "def numlist(list1):\n",
    "    test1=[]\n",
    "    \n",
    "    for i in list1:        \n",
    "        if type(i)==list or type(i)==tuple or type(i)==set:\n",
    "            for element in i:\n",
    "                    if type(element)==int:\n",
    "                        test1.append(element)\n",
    "        elif type(i)==dict:\n",
    "            for value in i.values():\n",
    "                if type(value) == int:\n",
    "                    test1.append(value)\n",
    "            for j in i.values():\n",
    "                if type(j)==list or type(j)==tuple:\n",
    "                    for k in j:\n",
    "                        if type(k)==int:\n",
    "                            test1.append(k)\n",
    "            for x in i.keys():\n",
    "                if type(x) == int:\n",
    "                    test1.append(x)\n",
    "        elif i in list1:\n",
    "            if type(i)==int:\n",
    "                test1.append(i)\n",
    "    print('\\n',test1)\n",
    "    return test1        \n",
    "            \n",
    "list1 = [1,2,3,4, [44,55,66, True], False, (34,56,78,89,34), {1,2,3,3,2,1},{1:34, \"key2\": [55, 67, 78, 89], 4: (45,22, 61, 34)},\n",
    "         [56, 'data science'], 'Machine Learning']\n",
    "\n",
    "list2=numlist(list1)\n",
    "\n",
    "a=1\n",
    "for i in list2:\n",
    "    a=a*i\n",
    "print('\\n',a) \n",
    "\n"
   ]
  },
  {
   "cell_type": "markdown",
   "id": "9f62df86-2de4-42cc-9628-6eea06e38e0d",
   "metadata": {},
   "source": [
    "#### Q2. Write a python program for encrypting a message sent to you by your friend. The logic of encryption\n",
    "#### should be such that, for a the output should be z. For b, the output should be y. For c, the output should\n",
    "#### be x respectively. Also, the whitespace should be replaced with a dollar sign. Keep the punctuation\n",
    "#### marks unchanged.\n",
    "Input Sentence: I want to become a Data Scientist.\n",
    "Encrypt the above input sentence using the program you just created.\n",
    "Note: Convert the given input sentence into lowercase before encrypting. The final output should be\n",
    "lowercase."
   ]
  },
  {
   "cell_type": "code",
   "execution_count": 72,
   "id": "a8bac61e-d73c-46df-97a2-48609240abf6",
   "metadata": {},
   "outputs": [
    {
     "name": "stdout",
     "output_type": "stream",
     "text": [
      "\n",
      " Given string     -->  I want to become a Data Scientist.  \n",
      "\n",
      " encrypted string -->  r$dzmg$gl$yvxlnv$z$wzgz$hxrvmgrhg.\n"
     ]
    }
   ],
   "source": [
    "def encode1(string1):\n",
    "    forw = []\n",
    "    for i in range(ord('a'), ord('z')+1):\n",
    "        forw.append(chr(i))\n",
    "   # print('\\n', forw)\n",
    "\n",
    "    revs = forw[::-1]\n",
    "   # print('\\n', revs)\n",
    "\n",
    "    mydict=dict(zip(forw,revs))\n",
    "   # print('\\n', mydict)\n",
    "    \n",
    "    string1=string1.lower()\n",
    "    for i in string1:\n",
    "        if i==\" \":\n",
    "            string1_nospace=string1.replace(\" \",\"$\")\n",
    "    string1_coded = \"\"\n",
    "    for x1 in string1_nospace:\n",
    "        if x1 in mydict.keys():\n",
    "            string1_coded += mydict[x1]\n",
    "        else:\n",
    "            string1_coded += x1\n",
    "            \n",
    "    #print(string1_coded)\n",
    "    return string1_coded\n",
    "\n",
    "\n",
    "string4=\"I want to become a Data Scientist.\"\n",
    "\n",
    "s1 = encode1(string4)\n",
    "print('\\n', 'Given string     --> ', string4, ' \\n\\n encrypted string --> ',s1)"
   ]
  },
  {
   "cell_type": "code",
   "execution_count": null,
   "id": "cd0a5829-ea13-4e96-ab65-536f018541aa",
   "metadata": {},
   "outputs": [],
   "source": []
  },
  {
   "cell_type": "code",
   "execution_count": null,
   "id": "ea06c7c5-8c30-44e7-88b3-4d68baf8e7d6",
   "metadata": {},
   "outputs": [],
   "source": []
  }
 ],
 "metadata": {
  "kernelspec": {
   "display_name": "Python 3 (ipykernel)",
   "language": "python",
   "name": "python3"
  },
  "language_info": {
   "codemirror_mode": {
    "name": "ipython",
    "version": 3
   },
   "file_extension": ".py",
   "mimetype": "text/x-python",
   "name": "python",
   "nbconvert_exporter": "python",
   "pygments_lexer": "ipython3",
   "version": "3.10.8"
  }
 },
 "nbformat": 4,
 "nbformat_minor": 5
}
