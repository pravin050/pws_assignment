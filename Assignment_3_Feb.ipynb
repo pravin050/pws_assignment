{
 "cells": [
  {
   "cell_type": "markdown",
   "id": "7fa36302-fb20-43d8-b256-c5eb0c9dfdc2",
   "metadata": {},
   "source": [
    "## 3rd Feb Assignment "
   ]
  },
  {
   "cell_type": "code",
   "execution_count": 1,
   "id": "8fc476f1-e4e8-403e-84f1-54049be7013c",
   "metadata": {},
   "outputs": [
    {
     "data": {
      "text/plain": [
       "' \\nQ1. Which keyword is used to create a function? Create a function to return a list of odd numbers in the\\nrange of 1 to 25.'"
      ]
     },
     "execution_count": 1,
     "metadata": {},
     "output_type": "execute_result"
    }
   ],
   "source": [
    "''' \n",
    "Q1. Which keyword is used to create a function? Create a function to return a list of odd numbers in the\n",
    "range of 1 to 25.'''\n"
   ]
  },
  {
   "cell_type": "code",
   "execution_count": 4,
   "id": "2855a7c7-3b26-4b8f-8f69-82940d8473e2",
   "metadata": {},
   "outputs": [
    {
     "name": "stdout",
     "output_type": "stream",
     "text": [
      "[1, 3, 5, 7, 9, 11, 13, 15, 17, 19, 21, 23, 25]\n"
     ]
    }
   ],
   "source": [
    "# 'def' keyword is use to create function\n",
    "\n",
    "def odd():\n",
    "    odd_l1 = []\n",
    "    for i in range(1, 26):\n",
    "        if i % 2 != 0:\n",
    "            odd_l1.append(i)\n",
    "    return odd_l1\n",
    "\n",
    "print(odd())"
   ]
  },
  {
   "cell_type": "code",
   "execution_count": 1,
   "id": "a701de4f-9bfc-4703-9fd9-bb8c53a3690c",
   "metadata": {},
   "outputs": [],
   "source": [
    "##################################################\n",
    "\n",
    "\n"
   ]
  },
  {
   "cell_type": "code",
   "execution_count": 2,
   "id": "59c84f89-ae73-4197-8deb-dbc8ada5a744",
   "metadata": {},
   "outputs": [
    {
     "data": {
      "text/plain": [
       "' Q2. Why *args and **kwargs is used in some functions? Create a function each for *args and **kwargs\\nto demonstrate their use. '"
      ]
     },
     "execution_count": 2,
     "metadata": {},
     "output_type": "execute_result"
    }
   ],
   "source": [
    "''' Q2. Why *args and **kwargs is used in some functions? Create a function each for *args and **kwargs\n",
    "to demonstrate their use. '''\n"
   ]
  },
  {
   "cell_type": "code",
   "execution_count": 5,
   "id": "8fdc1c26-c561-48b1-b1bb-fe620cb78d2a",
   "metadata": {},
   "outputs": [
    {
     "data": {
      "text/plain": [
       "' *args and **kwargs are used to pass a n number of arguments to a function in Python. \\n\\n*args -> using this we can pass n number of varibale as a tuple\\n\\n**kwargs -> using this we can pass n number of varibale as a dictionary '"
      ]
     },
     "execution_count": 5,
     "metadata": {},
     "output_type": "execute_result"
    }
   ],
   "source": [
    "''' *args and **kwargs are used to pass a n number of arguments to a function in Python. \n",
    "\n",
    "*args -> using this we can pass n number of varibale as a tuple\n",
    "\n",
    "**kwargs -> using this we can pass n number of varibale as a dictionary '''"
   ]
  },
  {
   "cell_type": "code",
   "execution_count": 9,
   "id": "2eb98ed8-020c-4f8e-a4cc-d833192b760d",
   "metadata": {},
   "outputs": [
    {
     "name": "stdout",
     "output_type": "stream",
     "text": [
      "28\n"
     ]
    }
   ],
   "source": [
    "def test1(*args):\n",
    "    s=0\n",
    "    for i in args:\n",
    "       s=s+i\n",
    "    print(s)\n",
    "\n",
    "test1(1,2,3,4,5,6,7)"
   ]
  },
  {
   "cell_type": "code",
   "execution_count": 17,
   "id": "824acea6-24c3-459c-9e6d-50bb5b0d7f36",
   "metadata": {},
   "outputs": [
    {
     "data": {
      "text/plain": [
       "{'name': 'Pravin', 'course': 'PWS Data Science', 'batch': 'Impact'}"
      ]
     },
     "execution_count": 17,
     "metadata": {},
     "output_type": "execute_result"
    }
   ],
   "source": [
    "def test2(**kwargs):\n",
    "    return kwargs\n",
    "\n",
    "test2(name='Pravin', course='PWS Data Science', batch='Impact')"
   ]
  },
  {
   "cell_type": "code",
   "execution_count": 18,
   "id": "d5436d66-2c3f-44ab-9fd0-aa60276ed8de",
   "metadata": {},
   "outputs": [],
   "source": [
    "##################################################\n"
   ]
  },
  {
   "cell_type": "code",
   "execution_count": 19,
   "id": "f606b1b6-c218-4a6d-ae15-7b5c3d02227d",
   "metadata": {},
   "outputs": [
    {
     "data": {
      "text/plain": [
       "' What is an iterator in python? Name the method used to initialise the iterator object and the method\\nused for iteration. Use these methods to print the first five elements of the given list [2, 4, 6, 8, 10, 12, 14,\\n16, 18, 20].'"
      ]
     },
     "execution_count": 19,
     "metadata": {},
     "output_type": "execute_result"
    }
   ],
   "source": [
    "''' What is an iterator in python? Name the method used to initialise the iterator object and the method\n",
    "used for iteration. Use these methods to print the first five elements of the given list [2, 4, 6, 8, 10, 12, 14,\n",
    "16, 18, 20].'''"
   ]
  },
  {
   "cell_type": "code",
   "execution_count": 20,
   "id": "2f290ac5-e4fa-4464-9d7c-cc28af09452d",
   "metadata": {},
   "outputs": [
    {
     "data": {
      "text/plain": [
       "' An iterator in Python is an object that implements the iterator protocol, which consists of the methods __iter__() \\nand __next__(). The __iter__() method returns the iterator object and the __next__() method returns the next value in \\nthe sequence of values.'"
      ]
     },
     "execution_count": 20,
     "metadata": {},
     "output_type": "execute_result"
    }
   ],
   "source": [
    "''' An iterator in Python is an object that implements the iterator protocol, which consists of the methods __iter__() \n",
    "and __next__(). The __iter__() method returns the iterator object and the __next__() method returns the next value in \n",
    "the sequence of values.'''"
   ]
  },
  {
   "cell_type": "code",
   "execution_count": 21,
   "id": "756ae693-2afa-45b3-aa7b-e5fd98f3a18f",
   "metadata": {},
   "outputs": [
    {
     "name": "stdout",
     "output_type": "stream",
     "text": [
      "2\n",
      "4\n",
      "6\n",
      "8\n",
      "10\n"
     ]
    }
   ],
   "source": [
    "my_list = [2, 4, 6, 8, 10, 12, 14, 16, 18, 20]\n",
    "my_iterator = iter(my_list)\n",
    "\n",
    "for i in range(5):\n",
    "    print(next(my_iterator))"
   ]
  },
  {
   "cell_type": "code",
   "execution_count": 1,
   "id": "054073ec-85f8-441d-91db-865ec10dc275",
   "metadata": {},
   "outputs": [],
   "source": [
    "##############################################"
   ]
  },
  {
   "cell_type": "code",
   "execution_count": 2,
   "id": "bd00c677-1082-4b81-996a-b59076cb2b74",
   "metadata": {},
   "outputs": [
    {
     "data": {
      "text/plain": [
       "'Q4. What is a generator function in python? Why yield keyword is used? Give an example of a generator\\nfunction.'"
      ]
     },
     "execution_count": 2,
     "metadata": {},
     "output_type": "execute_result"
    }
   ],
   "source": [
    "'''Q4. What is a generator function in python? Why yield keyword is used? Give an example of a generator\n",
    "function.'''"
   ]
  },
  {
   "cell_type": "code",
   "execution_count": 6,
   "id": "79ca131c-ff36-4d43-a6fa-2af18cad9b79",
   "metadata": {},
   "outputs": [
    {
     "data": {
      "text/plain": [
       "\" generator function is a special type of function in Python that generates a sequence of values.\\nUnlike a normal function, which returns a single value,a generator function returns an iterator \\n\\nThe yield keyword is used in a generator function to return a value and pause the function's execution. When the function \\nis called again, it resumes from where it left off and continues until it encounters the next yield statement or the function terminates. \\nThis allows a generator function to generate a sequence of values over multiple iterations.\\n\\n\""
      ]
     },
     "execution_count": 6,
     "metadata": {},
     "output_type": "execute_result"
    }
   ],
   "source": [
    "''' generator function is a special type of function in Python that generates a sequence of values.\n",
    "Unlike a normal function, which returns a single value,a generator function returns an iterator \n",
    "\n",
    "The yield keyword is used in a generator function to return a value and pause the function's execution. When the function \n",
    "is called again, it resumes from where it left off and continues until it encounters the next yield statement or the function terminates. \n",
    "This allows a generator function to generate a sequence of values over multiple iterations.\n",
    "\n",
    "'''"
   ]
  },
  {
   "cell_type": "code",
   "execution_count": 7,
   "id": "872c5e60-31c7-47b4-b391-cfa6d8829182",
   "metadata": {},
   "outputs": [
    {
     "name": "stdout",
     "output_type": "stream",
     "text": [
      "0\n",
      "1\n",
      "4\n",
      "9\n",
      "16\n"
     ]
    }
   ],
   "source": [
    "def square_numbers(n):\n",
    "    for i in range(n):\n",
    "        yield i**2\n",
    "\n",
    "squares = square_numbers(5)\n",
    "for square in squares:\n",
    "    print(square)"
   ]
  },
  {
   "cell_type": "code",
   "execution_count": 2,
   "id": "3dac6744-95c7-4978-b173-ad29cbff22ec",
   "metadata": {},
   "outputs": [],
   "source": [
    "##############################################"
   ]
  },
  {
   "cell_type": "code",
   "execution_count": 3,
   "id": "21a6d520-d76c-4c15-88ec-2607c7cc035c",
   "metadata": {},
   "outputs": [
    {
     "data": {
      "text/plain": [
       "' Q5. Create a generator function for prime numbers less than 1000. Use the next() method to print the\\nfirst 20 prime numbers. '"
      ]
     },
     "execution_count": 3,
     "metadata": {},
     "output_type": "execute_result"
    }
   ],
   "source": [
    "''' Q5. Create a generator function for prime numbers less than 1000. Use the next() method to print the\n",
    "first 20 prime numbers. '''"
   ]
  },
  {
   "cell_type": "code",
   "execution_count": null,
   "id": "47eae368-7bfd-4b4b-826d-dde3dc6ce6ca",
   "metadata": {},
   "outputs": [],
   "source": []
  },
  {
   "cell_type": "code",
   "execution_count": 5,
   "id": "eb31f56e-92f7-4dd5-a65a-71a11a057d5b",
   "metadata": {},
   "outputs": [],
   "source": [
    "##############################################\n"
   ]
  },
  {
   "cell_type": "code",
   "execution_count": 4,
   "id": "8c0017d8-d583-4815-8fab-6919e7d70362",
   "metadata": {},
   "outputs": [
    {
     "data": {
      "text/plain": [
       "' Q6. Write a python program to print the first 10 Fibonacci numbers using a while loop.'"
      ]
     },
     "execution_count": 4,
     "metadata": {},
     "output_type": "execute_result"
    }
   ],
   "source": [
    "''' Q6. Write a python program to print the first 10 Fibonacci numbers using a while loop.'''"
   ]
  },
  {
   "cell_type": "code",
   "execution_count": 8,
   "id": "37eb274e-01ff-4e3f-a728-ef78ce52a769",
   "metadata": {},
   "outputs": [
    {
     "name": "stdout",
     "output_type": "stream",
     "text": [
      "0\n",
      "1\n",
      "1\n",
      "2\n",
      "3\n",
      "5\n",
      "8\n",
      "13\n",
      "21\n",
      "34\n"
     ]
    }
   ],
   "source": [
    "a , b  = 0 , 1 \n",
    "i=0\n",
    "while i<=9 : \n",
    "    print(a)\n",
    "    c = a+ b\n",
    "    a = b \n",
    "    b = c \n",
    "    i=i+1"
   ]
  },
  {
   "cell_type": "code",
   "execution_count": 9,
   "id": "1e4b3788-044c-4e0e-a26f-4049d7371a1c",
   "metadata": {},
   "outputs": [],
   "source": [
    "##############################################\n"
   ]
  },
  {
   "cell_type": "code",
   "execution_count": 11,
   "id": "4eae9673-c478-4c5f-98b4-06d3f1f595a7",
   "metadata": {},
   "outputs": [
    {
     "data": {
      "text/plain": [
       "\" Q7. Write a List Comprehension to iterate through the given string: ‘pwskills’.\\n  Expected output: ['p', 'w', 's', 'k', 'i', 'l', 'l', 's']\""
      ]
     },
     "execution_count": 11,
     "metadata": {},
     "output_type": "execute_result"
    }
   ],
   "source": [
    "''' Q7. Write a List Comprehension to iterate through the given string: ‘pwskills’.\n",
    "  Expected output: ['p', 'w', 's', 'k', 'i', 'l', 'l', 's']'''"
   ]
  },
  {
   "cell_type": "code",
   "execution_count": 21,
   "id": "a2cd92d5-1d19-4958-964b-d988e154eab5",
   "metadata": {},
   "outputs": [
    {
     "name": "stdout",
     "output_type": "stream",
     "text": [
      "['p', 'w', 's', 'k', 'i', 'l', 'l', 's']\n"
     ]
    }
   ],
   "source": [
    "string='pwskills'\n",
    "A=[i for i in string]\n",
    "print(A)"
   ]
  },
  {
   "cell_type": "code",
   "execution_count": 22,
   "id": "84740429-7da6-47e4-b4ef-994601f0aed3",
   "metadata": {},
   "outputs": [],
   "source": [
    "##############################################"
   ]
  },
  {
   "cell_type": "code",
   "execution_count": 24,
   "id": "39bc7c6d-cf30-4fb5-8b2c-6d72d5f68e39",
   "metadata": {},
   "outputs": [
    {
     "data": {
      "text/plain": [
       "' Q 8 - Write a python program to check whether a given number is Palindrome or not using a while loop.'"
      ]
     },
     "execution_count": 24,
     "metadata": {},
     "output_type": "execute_result"
    }
   ],
   "source": [
    "''' Q 8 - Write a python program to check whether a given number is Palindrome or not using a while loop.'''"
   ]
  },
  {
   "cell_type": "code",
   "execution_count": 9,
   "id": "149871c9-ad09-4651-b417-1dbce59a1644",
   "metadata": {},
   "outputs": [
    {
     "name": "stdin",
     "output_type": "stream",
     "text": [
      "Enter a number:  111222222111\n"
     ]
    },
    {
     "name": "stdout",
     "output_type": "stream",
     "text": [
      "\n",
      " Yes, Given number 111222222111 is Palindrome \n"
     ]
    }
   ],
   "source": [
    "i=input(\"Enter a number: \")\n",
    "j=i[::-1]\n",
    "while i==j:\n",
    "    print( '\\n Yes, Given number', i, 'is Palindrome ')\n",
    "    break\n",
    "else:\n",
    "    print( '\\n No, Given number', i, 'is not Palindrome ')"
   ]
  },
  {
   "cell_type": "code",
   "execution_count": 10,
   "id": "a3e77822-060c-49cd-8941-6f827d315fab",
   "metadata": {},
   "outputs": [],
   "source": [
    "##############################################"
   ]
  },
  {
   "cell_type": "code",
   "execution_count": 11,
   "id": "46543c1d-c105-41a4-a60e-6cc14e93e039",
   "metadata": {},
   "outputs": [
    {
     "data": {
      "text/plain": [
       "'Q9. Write a code to print odd numbers from 1 to 100 using list comprehension.\\nNote: Use a list comprehension to create a list from 1 to 100 and use another List comprehension to filter\\nout odd numbers.'"
      ]
     },
     "execution_count": 11,
     "metadata": {},
     "output_type": "execute_result"
    }
   ],
   "source": [
    "'''Q9. Write a code to print odd numbers from 1 to 100 using list comprehension.\n",
    "Note: Use a list comprehension to create a list from 1 to 100 and use another List comprehension to filter\n",
    "out odd numbers.'''"
   ]
  },
  {
   "cell_type": "code",
   "execution_count": 32,
   "id": "c79d28e6-747e-4efe-9ff1-46672a44d097",
   "metadata": {},
   "outputs": [
    {
     "name": "stdout",
     "output_type": "stream",
     "text": [
      "[2, 4, 6, 8, 10, 12, 14, 16, 18, 20, 22, 24, 26, 28, 30, 32, 34, 36, 38, 40, 42, 44, 46, 48, 50, 52, 54, 56, 58, 60, 62, 64, 66, 68, 70, 72, 74, 76, 78, 80, 82, 84, 86, 88, 90, 92, 94, 96, 98, 100]\n"
     ]
    }
   ],
   "source": [
    "s1=list(range(1,101))\n",
    "odd=[i for i in s1 if i%2==0]\n",
    "print(odd)"
   ]
  },
  {
   "cell_type": "code",
   "execution_count": null,
   "id": "44950ba9-6ebd-48f2-a3b7-c22221605410",
   "metadata": {},
   "outputs": [],
   "source": []
  }
 ],
 "metadata": {
  "kernelspec": {
   "display_name": "Python 3 (ipykernel)",
   "language": "python",
   "name": "python3"
  },
  "language_info": {
   "codemirror_mode": {
    "name": "ipython",
    "version": 3
   },
   "file_extension": ".py",
   "mimetype": "text/x-python",
   "name": "python",
   "nbconvert_exporter": "python",
   "pygments_lexer": "ipython3",
   "version": "3.10.8"
  }
 },
 "nbformat": 4,
 "nbformat_minor": 5
}
