{
 "cells": [
  {
   "cell_type": "markdown",
   "id": "416e95c8-efe5-46d9-8738-e8d30a1c12f5",
   "metadata": {},
   "source": [
    "### 1. Who developed Python Programming Language?"
   ]
  },
  {
   "cell_type": "markdown",
   "id": "1ae8c0ea-893d-44df-a265-a7ca70be2199",
   "metadata": {},
   "source": [
    "#### Python was created by Guido van Rossum and was first released in 1991. It is named after the Monty Python comedy group and its design philosophy emphasizes code readability and ease of use."
   ]
  },
  {
   "cell_type": "markdown",
   "id": "33a90411-46a4-4341-ab28-ec74abf95049",
   "metadata": {},
   "source": [
    " ###  2. Which type of Programming does Python support?"
   ]
  },
  {
   "cell_type": "markdown",
   "id": "9847b339-3477-4d81-9d46-8636ab29b87f",
   "metadata": {},
   "source": [
    "###  Python supports multiple programming paradigms, including:\n",
    "\n",
    "    Object-Oriented Programming (OOP)\n",
    "    Functional Programming\n",
    "    Imperative Programming\n",
    "    Procedural Programming\n",
    "    Reflective Programming"
   ]
  },
  {
   "cell_type": "markdown",
   "id": "8968c3f8-71b5-4c66-ac9d-df46e037df55",
   "metadata": {},
   "source": [
    "### 3. Is Python case sensitive when dealing with identifiers?"
   ]
  },
  {
   "cell_type": "markdown",
   "id": "9ca31f9e-a816-45e7-bba3-f6245154741b",
   "metadata": {},
   "source": [
    "#### Yes, Python is case sensitive when dealing with identifiers. This means that the names of variables, functions, classes, and other objects must be written in a consistent case throughout your code. For example, a variable named \"myVariable\" is not the same as a variable named \"myvariable\" or \"myVariable\"."
   ]
  },
  {
   "cell_type": "markdown",
   "id": "9a051553-e970-4ee9-8489-7e199e88ea10",
   "metadata": {},
   "source": [
    "### 4. What is the correct extension of the Python file?"
   ]
  },
  {
   "cell_type": "markdown",
   "id": "2d08e90e-ac26-485f-8824-b40d974512cc",
   "metadata": {},
   "source": [
    "#### The correct extension of a Python file is \".py\". "
   ]
  },
  {
   "cell_type": "markdown",
   "id": "cfd4bf2a-cf48-486b-9c00-efc97b840f1c",
   "metadata": {},
   "source": [
    "### 5. is Python code compiled or interpreted?"
   ]
  },
  {
   "cell_type": "markdown",
   "id": "26b40aef-a329-4704-9ba6-6f055ff0f2a4",
   "metadata": {},
   "source": [
    "#### python code is interpreted, not compiled."
   ]
  },
  {
   "cell_type": "markdown",
   "id": "8d95a72f-7b68-428b-9188-2139e2d8f88d",
   "metadata": {},
   "source": [
    "\n",
    "\n",
    "### 6.Name a few blocks of code used to define in Python language?\n",
    "#### Functions,classes,Loops,Conditional statements,Try-Except block.\n",
    "    Indentation in python used to define the scope of block.\n",
    "\n",
    "### 7.State a character used to give single-line comments in python?\n",
    "#### pound/hash symbol (#)\n",
    "    \n",
    "### 8.Mention functions which can help us to find the version of python that we are currently working on?\n",
    "#### By using 'sys' module and accessing the 'version' attribute.\n",
    "    alternatively you can use the'platform'module to get the python version.\n",
    "    \n",
    "### 9. Pytho n supports the creation of anonymous functions at runtime,using a construct called ?\n",
    "#### lambda keyword ,followed by a list of arguments,a colon(:), and a single expression.\n",
    "    \n",
    "### 10.what does pip stand for python?\n",
    "#### Pip is an acronym that stands for pip installs packages.\n",
    "\n",
    "    \n",
    "### 11.Mention a few built-in functions in python?\n",
    "####    print()\n",
    "        len()\n",
    "        type()\n",
    "        str()\n",
    "        int()\n",
    "        float()\n",
    "        list()\n",
    "        tuple()\n",
    "        range()\n",
    "        max()\n",
    "        min()\n",
    "        sorted()\n",
    "        sum()\n",
    "### 12.What is maximum possible length of an identifier in Python?\n",
    "#### -No fixed to maximum length of identifier.\n",
    "    for operating system file name length which is often 255 characters.\n",
    "\n",
    "### 13.What are the benefits of using Python?\n",
    "#### -1.Easy to learn and use\n",
    "      2.versatile\n",
    "      3.Large community\n",
    "      4.Cross-platform\n",
    "      5.Open source\n",
    "      6.Dynamic typing\n",
    "      7.High level language\n",
    "      8.Large standard library\n",
    "    \n",
    "    \n",
    "### 14.How is memory managed in Python?\n",
    "#### Handled automatically by the python interpreter.\n",
    "    \n",
    "### 15.How to install Python on Windows and set path variables?\n",
    "####\n",
    "    1.Download the python installer from official website(https://www.python.org/downloads) \n",
    "    \n",
    "    2.Run the installer and follow the prompts and type 'python'to your PATH.make sure to select \"Yes\".\n",
    "    \n",
    "    3.Once installation is complete,open the command prompt and type 'python' to confirm that python is installed and the PATH variable is set correctly.\n",
    "    \n",
    "    4.set PATH variable permanently,you need to add the python installation directory to the PATH enviornment variable.\n",
    "    Here how you can do it:\n",
    "                            a)Open the start menu and search for \"Enviormnet Variables\".\n",
    "                            b)Click on \"Edit the system environment variables\".\n",
    "                            c)In system properties window,click on the\"Enviornment Variables \"button.\n",
    "                            d)Under\"System Variables\",scroll down and find the \"Path\"variable,then click on \"Edit\".\n",
    "                            e)Click on \"New\" and add the path to the python installation directory(e.g.C:\\Python3x)\n",
    "                            f)Cloase all windows and restart the command prompt.\n",
    "                    \n",
    "                    after following step you should able to run python from any location in the command prompt.\n",
    "    \n",
    "### 16.Is indentation required in python?\n",
    "  #### Yes it is required.\n",
    "    "
   ]
  },
  {
   "cell_type": "code",
   "execution_count": null,
   "id": "629d6b9a-f219-40b9-89bc-aabe83c6e44f",
   "metadata": {},
   "outputs": [],
   "source": []
  }
 ],
 "metadata": {
  "kernelspec": {
   "display_name": "Python 3 (ipykernel)",
   "language": "python",
   "name": "python3"
  },
  "language_info": {
   "codemirror_mode": {
    "name": "ipython",
    "version": 3
   },
   "file_extension": ".py",
   "mimetype": "text/x-python",
   "name": "python",
   "nbconvert_exporter": "python",
   "pygments_lexer": "ipython3",
   "version": "3.10.8"
  }
 },
 "nbformat": 4,
 "nbformat_minor": 5
}
